{
 "cells": [
  {
   "cell_type": "markdown",
   "metadata": {},
   "source": [
    "# Startup\n",
    "---"
   ]
  },
  {
   "cell_type": "code",
   "execution_count": 50,
   "metadata": {},
   "outputs": [
    {
     "name": "stdout",
     "output_type": "stream",
     "text": [
      "Hello, world!\n",
      "Hello, world!\n",
      "TEXT: HELLO, WORLD!\n"
     ]
    }
   ],
   "source": [
    "# Basic function print\n",
    "print(\"Hello, world!\")\n",
    "\n",
    "# แสดงข้อความที่อยู่ในตัวแปร text\n",
    "text = \"Hello, world!\"\n",
    "print(text)\n",
    "\n",
    "text = \"HELLO, WORLD!\"\n",
    "# แสดงข้อความ \n",
    "print(\"TEXT:\", text)"
   ]
  },
  {
   "cell_type": "markdown",
   "metadata": {},
   "source": [
    "# Variables and Data Types\n",
    "---"
   ]
  },
  {
   "cell_type": "code",
   "execution_count": 51,
   "metadata": {},
   "outputs": [
    {
     "name": "stdout",
     "output_type": "stream",
     "text": [
      "X: 5\n",
      "Name: Alice\n"
     ]
    }
   ],
   "source": [
    "# Variable assignment\n",
    "x = 5       # Integer\n",
    "y = 3.14    # Float\n",
    "name = \"Alice\"  # String\n",
    "is_active = True  # Boolean\n",
    "\n",
    "# Printing variables\n",
    "print(\"X:\", x)       # Output: 5\n",
    "print(\"Name:\", name)    # Output: Alice\n"
   ]
  },
  {
   "cell_type": "markdown",
   "metadata": {},
   "source": [
    "# Basic Operations\n",
    "---"
   ]
  },
  {
   "cell_type": "code",
   "execution_count": 52,
   "metadata": {},
   "outputs": [
    {
     "name": "stdout",
     "output_type": "stream",
     "text": [
      "SUM: 8.14\n",
      "Product: 15.700000000000001\n"
     ]
    }
   ],
   "source": [
    "# Arithmetic operations\n",
    "x = 5       # Integer\n",
    "y = 3.14    # Float\n",
    "\n",
    "sum = x + y          # Addition\n",
    "difference = x - y   # Subtraction\n",
    "product = x * y      # Multiplication\n",
    "quotient = x / y     # Division\n",
    "\n",
    "print(\"SUM:\", sum)           # Output: 8.14\n",
    "print(\"Product:\", product)  # Output: 15.7"
   ]
  },
  {
   "cell_type": "markdown",
   "metadata": {},
   "source": [
    "# Logical Operations\n",
    "___"
   ]
  },
  {
   "cell_type": "code",
   "execution_count": 53,
   "metadata": {},
   "outputs": [
    {
     "name": "stdout",
     "output_type": "stream",
     "text": [
      "Is Equal: True\n",
      "Not Equal: True\n"
     ]
    }
   ],
   "source": [
    "x = 5\n",
    "# Logical operations\n",
    "# Operations: [ < น้อยกว่า, > มากกว่า, == เท่ากับ, != ไม่เท่ากับ ]\n",
    "is_equal = (x == 5)  # True, x เท่ากับ 5 หรืิอไม่ ถ้าใช่ให้ is_equal มีค่าเท่ากับ True ถ้าไม่ใช่เท่ากับ False\n",
    "not_equal = (x != 3) # True, x มีค่าเท่ากับ 3 หรืิอไม่ ถ้าไม่ใช่ให้ not_equal มีค่าเท่ากับ True ถ้าไม่ใช่เท่ากับ False\n",
    "\n",
    "print(\"Is Equal:\", is_equal)      # Output: True\n",
    "print(\"Not Equal:\", not_equal)      # Output: True\n"
   ]
  },
  {
   "cell_type": "code",
   "execution_count": 54,
   "metadata": {},
   "outputs": [
    {
     "name": "stdout",
     "output_type": "stream",
     "text": [
      "You are an adult.\n"
     ]
    }
   ],
   "source": [
    "age = 20\n",
    "if age >= 18:\n",
    "    print(\"You are an adult.\")\n",
    "else:\n",
    "    print(\"You are a minor.\")"
   ]
  },
  {
   "cell_type": "markdown",
   "metadata": {},
   "source": [
    "# Loop\n",
    "---"
   ]
  },
  {
   "cell_type": "markdown",
   "metadata": {},
   "source": [
    "### For Loop"
   ]
  },
  {
   "cell_type": "code",
   "execution_count": 55,
   "metadata": {},
   "outputs": [
    {
     "name": "stdout",
     "output_type": "stream",
     "text": [
      "Iteration 0\n",
      "Iteration 1\n",
      "Iteration 2\n",
      "Iteration 3\n",
      "Iteration 4\n"
     ]
    }
   ],
   "source": [
    "# For loop\n",
    "for i in range(5):\n",
    "    print(\"Iteration\", i)\n"
   ]
  },
  {
   "cell_type": "markdown",
   "metadata": {},
   "source": [
    "### While Loop"
   ]
  },
  {
   "cell_type": "code",
   "execution_count": 56,
   "metadata": {},
   "outputs": [
    {
     "name": "stdout",
     "output_type": "stream",
     "text": [
      "Count is 0\n",
      "Count is 1\n",
      "Count is 2\n",
      "Count is 3\n",
      "Count is 4\n"
     ]
    }
   ],
   "source": [
    "# While loop\n",
    "count = 0\n",
    "while count < 5:\n",
    "    print(\"Count is\", count)\n",
    "    count += 1"
   ]
  },
  {
   "cell_type": "markdown",
   "metadata": {},
   "source": [
    "# Lists and Dictionaries and Tuple\n",
    "---"
   ]
  },
  {
   "cell_type": "markdown",
   "metadata": {},
   "source": [
    "### Lists [1, 2, 3, ...]"
   ]
  },
  {
   "cell_type": "markdown",
   "metadata": {},
   "source": [
    "- **Basic Access**"
   ]
  },
  {
   "cell_type": "code",
   "execution_count": 57,
   "metadata": {},
   "outputs": [
    {
     "name": "stdout",
     "output_type": "stream",
     "text": [
      "apple\n"
     ]
    }
   ],
   "source": [
    "# Lists\n",
    "fruits = [\"apple\", \"banana\", \"cherry\"]\n",
    "print(fruits[0])\n",
    "fruits.append(\"orange\")  # Add a new eleme"
   ]
  },
  {
   "cell_type": "code",
   "execution_count": 58,
   "metadata": {},
   "outputs": [
    {
     "name": "stdout",
     "output_type": "stream",
     "text": [
      "[1, 2, 3, 4, 5, 6, 7, 8, 9, 10, 11, 12, 13, 14, 15]\n",
      "1\n",
      "11\n",
      "[6, 7, 8, 9, 10, 11, 12, 13, 14, 15]\n",
      "[1, 2, 3, 4, 5, 6, 7, 8, 9, 10]\n"
     ]
    }
   ],
   "source": [
    "# Define a list of numbers from 1 to 15\n",
    "# Index    0  1  2  3  4  5  6  7  8  9   10  11  12  13  14\n",
    "numbers = [1, 2, 3, 4, 5, 6, 7, 8, 9, 10, 11, 12, 13, 14, 15]\n",
    "\n",
    "print(numbers)\n",
    "print(numbers[0])    # Access the number at index 0\n",
    "print(numbers[10])   # Access the number at index 10\n",
    "print(numbers[5:])   # Access the numbers from index 5 to the end\n",
    "print(numbers[:-5])  # Access the numbers from index 0 to index -5 (exclusive)"
   ]
  },
  {
   "cell_type": "markdown",
   "metadata": {},
   "source": [
    "- **Apply with Loop**"
   ]
  },
  {
   "cell_type": "code",
   "execution_count": 59,
   "metadata": {},
   "outputs": [
    {
     "name": "stdout",
     "output_type": "stream",
     "text": [
      "Number: 1\n",
      "Number: 2\n",
      "Number: 3\n",
      "Number: 4\n",
      "Number: 5\n"
     ]
    }
   ],
   "source": [
    "numbers = [1, 2, 3, 4, 5]\n",
    "for number in numbers:\n",
    "    print(\"Number:\", number)"
   ]
  },
  {
   "cell_type": "code",
   "execution_count": 60,
   "metadata": {},
   "outputs": [
    {
     "name": "stdout",
     "output_type": "stream",
     "text": [
      "Legnth: 6\n",
      "Index: 0 Value: 55\n",
      "Index: 1 Value: 44\n",
      "Index: 2 Value: 33\n",
      "Index: 3 Value: 22\n",
      "Index: 4 Value: 11\n",
      "Index: 5 Value: 0\n"
     ]
    }
   ],
   "source": [
    "numbers = [55, 44, 33, 22, 11, 0]\n",
    "length = len(numbers) # Check length of numbers\n",
    "print(\"Legnth:\", length)\n",
    "for index in range(len(numbers)):\n",
    "    print(\"Index:\", index, \"Value:\", numbers[index])"
   ]
  },
  {
   "cell_type": "code",
   "execution_count": 61,
   "metadata": {},
   "outputs": [
    {
     "name": "stdout",
     "output_type": "stream",
     "text": [
      "Index: 0 Value: 55\n",
      "Index: 1 Value: 44\n",
      "Index: 2 Value: 33\n",
      "Index: 3 Value: 22\n",
      "Index: 4 Value: 11\n",
      "Index: 5 Value: 0\n"
     ]
    }
   ],
   "source": [
    "numbers = [55, 44, 33, 22, 11, 0]\n",
    "for index, value in enumerate(numbers):\n",
    "    print(\"Index:\", index, \"Value:\", value)"
   ]
  },
  {
   "cell_type": "markdown",
   "metadata": {},
   "source": [
    "### Dictionaries {\"key\": \"value\"}"
   ]
  },
  {
   "cell_type": "code",
   "execution_count": 62,
   "metadata": {},
   "outputs": [
    {
     "name": "stdout",
     "output_type": "stream",
     "text": [
      "John\n"
     ]
    }
   ],
   "source": [
    "# Dictionaries\n",
    "person = {\n",
    "    \"name\": \"John\",\n",
    "    \"age\": 30,\n",
    "    \"city\": \"New York\"\n",
    "}\n",
    "print(person[\"name\"])  # Access the value associated with the \"name\" key\n"
   ]
  },
  {
   "cell_type": "markdown",
   "metadata": {},
   "source": [
    "### Tuple (1, 2, 3, ...)"
   ]
  },
  {
   "cell_type": "code",
   "execution_count": 63,
   "metadata": {},
   "outputs": [
    {
     "name": "stdout",
     "output_type": "stream",
     "text": [
      "(1, 2, 3, 4, 5, 6, 7, 8)\n",
      "1\n",
      "3\n"
     ]
    }
   ],
   "source": [
    "numbers = (1, 2, 3, 4, 5, 6, 7, 8)\n",
    "print(numbers)\n",
    "print(numbers[0])\n",
    "print(numbers.index(4))"
   ]
  },
  {
   "cell_type": "markdown",
   "metadata": {},
   "source": [
    "# Fucntion\n",
    "---"
   ]
  },
  {
   "cell_type": "markdown",
   "metadata": {},
   "source": [
    "\n",
    "### Function Returning Multiple Values"
   ]
  },
  {
   "cell_type": "code",
   "execution_count": 64,
   "metadata": {},
   "outputs": [
    {
     "name": "stdout",
     "output_type": "stream",
     "text": [
      "Hello, Guest\n",
      "Hello, Alice\n"
     ]
    }
   ],
   "source": [
    "# Function Returning Multiple Values\n",
    "def greet(name=\"Guest\"):\n",
    "    print(\"Hello, \" + name)\n",
    "\n",
    "greet()         # Outputs: Hello, Guest\n",
    "greet(\"Alice\")  # Outputs: Hello, Alice\n"
   ]
  },
  {
   "cell_type": "markdown",
   "metadata": {},
   "source": [
    "### Function with Multiple Parameters"
   ]
  },
  {
   "cell_type": "code",
   "execution_count": 65,
   "metadata": {},
   "outputs": [
    {
     "name": "stdout",
     "output_type": "stream",
     "text": [
      "30\n"
     ]
    }
   ],
   "source": [
    "# Function with Multiple Parameters\n",
    "def add(a, b):\n",
    "    return a + b\n",
    "\n",
    "result = add(10, 20)\n",
    "print(result)  # Outputs: 30"
   ]
  },
  {
   "cell_type": "markdown",
   "metadata": {},
   "source": [
    "### Function with Keyword Arguments"
   ]
  },
  {
   "cell_type": "code",
   "execution_count": 66,
   "metadata": {},
   "outputs": [
    {
     "name": "stdout",
     "output_type": "stream",
     "text": [
      "My name is John and I am 30 years old.\n"
     ]
    }
   ],
   "source": [
    "# Function with Keyword Arguments\n",
    "def introduce(name, age):\n",
    "    print(f\"My name is {name} and I am {age} years old.\")\n",
    "\n",
    "introduce(age=30, name=\"John\")  # Outputs: My name is John and I am 30 years old."
   ]
  },
  {
   "cell_type": "markdown",
   "metadata": {},
   "source": [
    "### Function Returning Multiple Values"
   ]
  },
  {
   "cell_type": "code",
   "execution_count": 67,
   "metadata": {},
   "outputs": [
    {
     "name": "stdout",
     "output_type": "stream",
     "text": [
      "Alice\n",
      "28\n"
     ]
    }
   ],
   "source": [
    "# Function Returning Multiple Values\n",
    "def get_user_info():\n",
    "    name = \"Alice\"\n",
    "    age = 28\n",
    "    return name, age\n",
    "\n",
    "user_name, user_age = get_user_info()\n",
    "print(user_name)  # Outputs: Alice\n",
    "print(user_age)   # Outputs: 28"
   ]
  }
 ],
 "metadata": {
  "kernelspec": {
   "display_name": "Python 3",
   "language": "python",
   "name": "python3"
  },
  "language_info": {
   "codemirror_mode": {
    "name": "ipython",
    "version": 3
   },
   "file_extension": ".py",
   "mimetype": "text/x-python",
   "name": "python",
   "nbconvert_exporter": "python",
   "pygments_lexer": "ipython3",
   "version": "3.11.9"
  }
 },
 "nbformat": 4,
 "nbformat_minor": 2
}
