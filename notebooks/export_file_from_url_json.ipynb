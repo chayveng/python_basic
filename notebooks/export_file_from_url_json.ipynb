{
 "cells": [
  {
   "cell_type": "code",
   "execution_count": null,
   "metadata": {},
   "outputs": [],
   "source": [
    "import requests\n",
    "import pandas as pd"
   ]
  },
  {
   "cell_type": "code",
   "execution_count": null,
   "metadata": {},
   "outputs": [],
   "source": [
    "urls = [\n",
    "    \"https://jsonplaceholder.typicode.com/posts\",\n",
    "    \"https://jsonplaceholder.typicode.com/comments\",\n",
    "    \"https://jsonplaceholder.typicode.com/albums\",\n",
    "    \"https://jsonplaceholder.typicode.com/photos\",\n",
    "    \"https://jsonplaceholder.typicode.com/todos\",\n",
    "    \"https://jsonplaceholder.typicode.com/users\"\n",
    "]\n",
    "\n",
    "\n",
    "def get_file_name_from_url(url):\n",
    "    file_name = url.split(\"/\")[-1]\n",
    "    return file_name"
   ]
  },
  {
   "cell_type": "code",
   "execution_count": null,
   "metadata": {},
   "outputs": [],
   "source": [
    "def export_excel_file():\n",
    "    for url in urls:\n",
    "        response = requests.get(url)\n",
    "\n",
    "        # Check if the request was successful\n",
    "        if response.status_code == 200:\n",
    "            # Parse the JSON response into a list of dictionaries\n",
    "            data = response.json()\n",
    "\n",
    "            # Convert the data to a DataFrame using pandas\n",
    "            df = pd.DataFrame(data)\n",
    "            \n",
    "            file_name = url.split(\"/\")[-1]\n",
    "\n",
    "            # Export the DataFrame to an Excel file\n",
    "            df.to_excel(f'exports/files/{file_name}.xlsx', index=False)\n",
    "\n",
    "            print(f\"Data has been successfully exported to {file_name}.xlsx\")\n",
    "        else:\n",
    "            print(f\"Failed to fetch data. Status code: {response.status_code}\")"
   ]
  },
  {
   "cell_type": "code",
   "execution_count": null,
   "metadata": {},
   "outputs": [],
   "source": [
    "\n",
    "def export_csv_file():\n",
    "    for url in urls:\n",
    "        response = requests.get(url)\n",
    "\n",
    "        # Check if the request was successful\n",
    "        if response.status_code == 200:\n",
    "            # Parse the JSON response into a list of dictionaries\n",
    "            data = response.json()\n",
    "\n",
    "            # Convert the data to a DataFrame using pandas\n",
    "            df = pd.DataFrame(data)\n",
    "\n",
    "            file_name = url.split(\"/\")[-1]\n",
    "\n",
    "            # Export the DataFrame to an Excel file\n",
    "            df.to_csv(f'exports/files/csv/{file_name}.csv', index=False)\n",
    "\n",
    "            print(f\"Data has been successfully exported to {file_name}.csv\")\n",
    "    else:\n",
    "        print(f\"Failed to fetch data. Status code: {response.status_code}\")"
   ]
  },
  {
   "cell_type": "code",
   "execution_count": null,
   "metadata": {},
   "outputs": [],
   "source": [
    "export_excel_file()"
   ]
  },
  {
   "cell_type": "code",
   "execution_count": null,
   "metadata": {},
   "outputs": [],
   "source": [
    "export_csv_file()"
   ]
  }
 ],
 "metadata": {
  "kernelspec": {
   "display_name": ".venv",
   "language": "python",
   "name": "python3"
  },
  "language_info": {
   "codemirror_mode": {
    "name": "ipython",
    "version": 3
   },
   "file_extension": ".py",
   "mimetype": "text/x-python",
   "name": "python",
   "nbconvert_exporter": "python",
   "pygments_lexer": "ipython3",
   "version": "3.12.7"
  }
 },
 "nbformat": 4,
 "nbformat_minor": 2
}
